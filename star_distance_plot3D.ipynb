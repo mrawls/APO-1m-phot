{
 "cells": [
  {
   "cell_type": "code",
   "execution_count": 1,
   "metadata": {
    "collapsed": false
   },
   "outputs": [
    {
     "name": "stderr",
     "output_type": "stream",
     "text": [
      "/Users/Meredith/Applications/Ureka/variants/common/lib/python2.7/site-packages/IPython/kernel/__init__.py:13: ShimWarning: The `IPython.kernel` package has been deprecated. You should import from ipykernel or jupyter_client instead.\n",
      "  \"You should import from ipykernel or jupyter_client instead.\", ShimWarning)\n"
     ]
    }
   ],
   "source": [
    "import numpy as np\n",
    "import matplotlib.pyplot as plt\n",
    "from mpl_toolkits.mplot3d import Axes3D\n",
    "import mpl_toolkits.mplot3d.art3d as art3d\n",
    "import astropy.units as u\n",
    "import astropy.coordinates as coord\n",
    "from astropy.coordinates import SkyCoord\n",
    "from astropy.coordinates import Distance"
   ]
  },
  {
   "cell_type": "code",
   "execution_count": 2,
   "metadata": {
    "collapsed": false
   },
   "outputs": [],
   "source": [
    "%matplotlib inline"
   ]
  },
  {
   "cell_type": "code",
   "execution_count": 3,
   "metadata": {
    "collapsed": true
   },
   "outputs": [],
   "source": [
    "infile = 'RGEB_distinfo.txt'\n",
    "target_col = 0\n",
    "RA_col = 3\n",
    "Dec_col = 4\n",
    "dist_col = 6\n",
    "derr_col = 7\n",
    "usecols = (target_col, RA_col, Dec_col, dist_col, derr_col)\n",
    "\n",
    "# Read in target information from a text file\n",
    "targets, RAs, Decs, dists, derrs = np.loadtxt(infile, comments='#', usecols=usecols, \n",
    "    dtype={'names': ('targets', 'RAs', 'Decs', 'dists', 'derrs'),\n",
    "    'formats': (np.int, '|S11','|S11', np.float64, np.float64)}, unpack=True)\n",
    "\n",
    "# Put the RAs, Decs, and distances in a more useful format\n",
    "RAs = coord.Angle(RAs, unit=u.hour)\n",
    "RAs_plot = RAs.wrap_at(180*u.degree) # for reasons\n",
    "Decs = coord.Angle(Decs, unit=u.degree)\n",
    "dists = dists*u.pc\n",
    "derrs = derrs*u.pc\n",
    "\n",
    "# Define a SkyCoord object for each target\n",
    "starlocs = []\n",
    "for target, RA, Dec, dist, derr in zip(targets, RAs, Decs, dists, derrs):\n",
    "    starlocs.append( SkyCoord(ra=RA, dec=Dec, distance=dist) )"
   ]
  },
  {
   "cell_type": "code",
   "execution_count": 4,
   "metadata": {
    "collapsed": false
   },
   "outputs": [
    {
     "data": {
      "image/png": "[encoded data removed]",
      "text/plain": [
       "<matplotlib.figure.Figure at 0x10acabfd0>"
      ]
     },
     "metadata": {},
     "output_type": "display_data"
    }
   ],
   "source": [
    "# Make a figure\n",
    "fig = plt.figure()\n",
    "\n",
    "star_galcens = []\n",
    "for star in starlocs:\n",
    "    if star.distance > 0:\n",
    "        star_galcens.append(star.transform_to(coord.Galactocentric))\n",
    "\n",
    "ax1 = fig.add_subplot(1,1,1, projection='3d', aspect='equal')\n",
    "ax1.grid(False)\n",
    "for star in star_galcens:\n",
    "    ax1.scatter(star.x, star.y, star.z, c='r', edgecolors='r', s=50)\n",
    "ax1.scatter(0, 0, 0, marker='o', c='k', edgecolors='k', s=50) # galactic center\n",
    "ax1.scatter(-8300, 0, 27, marker='*', c='k', edgecolors='k', s=80) # Sun\n",
    "\n",
    "# Contour-type circles that radiate out from the galactic center for reference\n",
    "circle1 = plt.Circle((0,0), 2000, color='0.75', fill=False)\n",
    "circle2 = plt.Circle((0,0), 4000, color='0.75', fill=False)\n",
    "circle3 = plt.Circle((0,0), 6000, color='0.75', fill=False)\n",
    "circle4 = plt.Circle((0,0), 8000, color='0.75', fill=False)\n",
    "circle5 = plt.Circle((0,0), 10000, color='0.75', fill=False)\n",
    "ax1.add_patch(circle1)\n",
    "ax1.add_patch(circle2)\n",
    "ax1.add_patch(circle3)\n",
    "ax1.add_patch(circle4)\n",
    "ax1.add_patch(circle5)\n",
    "art3d.pathpatch_2d_to_3d(circle1, z=0, zdir='z')\n",
    "art3d.pathpatch_2d_to_3d(circle2, z=0, zdir='z')\n",
    "art3d.pathpatch_2d_to_3d(circle3, z=0, zdir='z')\n",
    "art3d.pathpatch_2d_to_3d(circle4, z=0, zdir='z')\n",
    "art3d.pathpatch_2d_to_3d(circle5, z=0, zdir='z')"
   ]
  },
  {
   "cell_type": "code",
   "execution_count": null,
   "metadata": {
    "collapsed": true
   },
   "outputs": [],
   "source": []
  }
 ],
 "metadata": {
  "kernelspec": {
   "display_name": "Python 2",
   "language": "python",
   "name": "python2"
  },
  "language_info": {
   "codemirror_mode": {
    "name": "ipython",
    "version": 2
   },
   "file_extension": ".py",
   "mimetype": "text/x-python",
   "name": "python",
   "nbconvert_exporter": "python",
   "pygments_lexer": "ipython2",
   "version": "2.7.5"
  }
 },
 "nbformat": 4,
 "nbformat_minor": 0
}
