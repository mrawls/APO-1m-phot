{
 "cells": [
  {
   "cell_type": "code",
   "execution_count": null,
   "metadata": {
    "collapsed": false,
    "scrolled": false
   },
   "outputs": [],
   "source": [
    "from __future__ import print_function\n",
    "import numpy as np\n",
    "import matplotlib.pyplot as plt\n",
    "from astropy.io import fits\n",
    "import paramiko"
   ]
  },
  {
   "cell_type": "markdown",
   "metadata": {},
   "source": [
    "This is specifically for analyzing 1-meter photometry data, which I have stored in a specific place."
   ]
  },
  {
   "cell_type": "code",
   "execution_count": null,
   "metadata": {
    "collapsed": false
   },
   "outputs": [],
   "source": [
    "fullFilePath = '/mnt/mrawls/1m_obs/'\n",
    "hostname = 'seismo'\n",
    "username = 'mrawls'  # password is magically saved in SSH file-land\n",
    "# Not sure if having a config file actually helps or not\n",
    "#config_file = '/Users/Meredith/.ssh/config'\n",
    "#ssh_config = paramiko.SSHConfig()\n",
    "#ssh_config.parse(open(config_file))\n",
    "client = paramiko.SSHClient()\n",
    "client.set_missing_host_key_policy(paramiko.AutoAddPolicy())\n",
    "client.load_system_host_keys()\n",
    "try:        # maybe we're on campus\n",
    "    client.connect(hostname, 22, username)\n",
    "    print('success! connected')\n",
    "except:  # maybe we're not on campus\n",
    "    print('connecting to astronomy first')\n",
    "    client.connect('astronomy.nmsu.edu', 22, username)\n",
    "    proxy_command = 'ssh %s@astronomy.nmsu.edu nc %s %s' % (username, hostname+'.nmsu.edu', 22)\n",
    "    proxy = paramiko.ProxyCommand(proxy_command)\n",
    "    client = paramiko.SSHClient()\n",
    "    client.set_missing_host_key_policy(paramiko.AutoAddPolicy())\n",
    "    client.connect(hostname, 22, username, sock=proxy)\n",
    "    print('success! connected')"
   ]
  },
  {
   "cell_type": "code",
   "execution_count": null,
   "metadata": {
    "collapsed": false
   },
   "outputs": [],
   "source": [
    "sftp = client.open_sftp()\n",
    "listOfAllFiles = sftp.listdir(fullFilePath)  # get all files and directories\n",
    "listOfDirs = []\n",
    "for item in listOfAllFiles:\n",
    "    # get only files/directories that are dates (eg '140101')\n",
    "    # (we assume these are all directories, and none are files)\n",
    "    #if item[0:2] == ('14' or '15'):\n",
    "    if item[0:2] == ('15'):\n",
    "        listOfDirs.append(fullFilePath + str(item) + '/')\n",
    "print('First directory is {0}'.format(listOfDirs[0]))\n",
    "print('Last directory is {0}'.format(listOfDirs[-1]))"
   ]
  },
  {
   "cell_type": "code",
   "execution_count": null,
   "metadata": {
    "collapsed": false
   },
   "outputs": [],
   "source": [
    "#listOfFitsFiles = []\n",
    "fout = open('imginventory_out.txt', 'w')\n",
    "for directory in listOfDirs:\n",
    "    print('next is {0} directory'.format(directory))\n",
    "    sftp = client.open_sftp()\n",
    "    listOfFilesInDir = sftp.listdir(directory)\n",
    "    print('successfully accessed {0} directory'.format(directory))\n",
    "    for filename in listOfFilesInDir:\n",
    "        if filename[-4:] == ('fits' or 'FITS'):\n",
    "            fullfilepath = directory+filename\n",
    "            try:\n",
    "                hdu = fits.open(sftp.file(fullfilepath))\n",
    "                dateobs = (hdu[0].header['date-obs'])\n",
    "                RA = (hdu[0].header['RA'])\n",
    "                Dec = (hdu[0].header['Dec'])\n",
    "                filtname = (hdu[0].header['filtname'][-10:])\n",
    "                print(dateobs, RA, Dec, filtname, file=fout)\n",
    "                #print(hdu[0].header['date-obs'], hdu[0].header['RA'], hdu[0].header['filtname'][-9])\n",
    "            except:\n",
    "                continue\n",
    "\n",
    "#    except: # if we've exhausted the SSH volume, disconnect and reconnect\n",
    "#        try:\n",
    "#            client.close()\n",
    "#            client.connect(hostname, 22, username)\n",
    "#            print('reconnected!')\n",
    "#            sftp = client.open_sftp()\n",
    "#            listOfFilesInDir = sftp.listdir(dir)\n",
    "#            print('successfully accessed {0} directory'.format(dir))\n",
    "#            for file in listOfFilesInDir:\n",
    "#                if file[-4:] == ('fits' or 'FITS'):\n",
    "#                    fullfilepath = dir+file\n",
    "#                    try:\n",
    "#                        hdu = fits.open(sftp.file(fullfilepath))\n",
    "#                        print(hdu[0].header['date-obs'], hdu[0].header['RA'], hdu[0].header['filtname'][-9])\n",
    "#                    except:\n",
    "#                        continue\n",
    "#        except: # if reconnecting doesn't work, we're going to have a bad time\n",
    "#            print('sorry, skipping {0} directory'.format(dir))\n",
    "#            continue\n"
   ]
  },
  {
   "cell_type": "code",
   "execution_count": null,
   "metadata": {
    "collapsed": true
   },
   "outputs": [],
   "source": []
  }
 ],
 "metadata": {
  "kernelspec": {
   "display_name": "Python 2",
   "language": "python",
   "name": "python2"
  },
  "language_info": {
   "codemirror_mode": {
    "name": "ipython",
    "version": 2
   },
   "file_extension": ".py",
   "mimetype": "text/x-python",
   "name": "python",
   "nbconvert_exporter": "python",
   "pygments_lexer": "ipython2",
   "version": "2.7.5"
  }
 },
 "nbformat": 4,
 "nbformat_minor": 0
}
